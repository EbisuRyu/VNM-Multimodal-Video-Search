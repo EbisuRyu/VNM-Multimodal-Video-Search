{
 "cells": [
  {
   "cell_type": "markdown",
   "metadata": {},
   "source": [
    "#### **0. Tag Search**"
   ]
  },
  {
   "cell_type": "code",
   "execution_count": null,
   "metadata": {},
   "outputs": [],
   "source": [
    "%cd D:/AIC2024"
   ]
  },
  {
   "cell_type": "code",
   "execution_count": null,
   "metadata": {},
   "outputs": [],
   "source": [
    "from utils.filter.tag_search import TagSearch\n",
    "from notebooks.utils import display_images\n",
    "import time"
   ]
  },
  {
   "cell_type": "markdown",
   "metadata": {},
   "source": [
    "#### **0. Global Search**"
   ]
  },
  {
   "cell_type": "code",
   "execution_count": 3,
   "metadata": {},
   "outputs": [],
   "source": [
    "tag_search = TagSearch(\n",
    "    search_type='bm25' #or tf-idf\n",
    ")"
   ]
  },
  {
   "cell_type": "code",
   "execution_count": null,
   "metadata": {},
   "outputs": [],
   "source": [
    "top_k = 30\n",
    "input_query = 'car drive flood person'\n",
    "# Nếu image-path_subset là None thì mặc định là search global\n",
    "image_path_subset = None\n",
    "start_time = time.time()\n",
    "results = tag_search(input_query, image_path_subset=image_path_subset, top_k=top_k)\n",
    "end_time = time.time()\n",
    "\n",
    "print('Thời gian truy vấn:', end_time - start_time)\n",
    "display_images(results)"
   ]
  },
  {
   "cell_type": "markdown",
   "metadata": {},
   "source": [
    "#### **0. Fusion Search**"
   ]
  },
  {
   "cell_type": "code",
   "execution_count": null,
   "metadata": {},
   "outputs": [],
   "source": [
    "image_path_subset = [\n",
    "    \"./distilled_keyframe/L01/V001/0.jpg\", \n",
    "    \"./distilled_keyframe/L01/V001/6.jpg\",\n",
    "    \"./distilled_keyframe/L01/V022/31971.jpg\",\n",
    "    \"./distilled_keyframe/L10/V006/26139.jpg\",\n",
    "    \"./distilled_keyframe/L02/V001/435.jpg\"\n",
    "]\n",
    "top_k = 30\n",
    "input_query = 'car person'\n",
    "start_time = time.time()\n",
    "results = tag_search(input_query, image_path_subset=image_path_subset, top_k=top_k)\n",
    "end_time = time.time()\n",
    "\n",
    "print('Thời gian truy vấn:', end_time - start_time)\n",
    "display_images(results)"
   ]
  }
 ],
 "metadata": {
  "kernelspec": {
   "display_name": "aic2024-env",
   "language": "python",
   "name": "python3"
  },
  "language_info": {
   "codemirror_mode": {
    "name": "ipython",
    "version": 3
   },
   "file_extension": ".py",
   "mimetype": "text/x-python",
   "name": "python",
   "nbconvert_exporter": "python",
   "pygments_lexer": "ipython3",
   "version": "3.8.19"
  }
 },
 "nbformat": 4,
 "nbformat_minor": 2
}
