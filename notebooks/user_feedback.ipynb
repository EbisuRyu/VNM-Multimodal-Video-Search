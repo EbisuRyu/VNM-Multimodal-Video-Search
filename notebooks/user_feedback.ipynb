{
 "cells": [
  {
   "cell_type": "code",
   "execution_count": null,
   "metadata": {},
   "outputs": [],
   "source": [
    "%cd D:/AIC2024"
   ]
  },
  {
   "cell_type": "code",
   "execution_count": null,
   "metadata": {},
   "outputs": [],
   "source": [
    "from utils.user_feedback.user_feedback import UserFeedback\n",
    "from utils.embedding_based_search.embedding_based_search import EmbeddingBasedSearch\n",
    "from utils.query_processing.translator import Translator\n",
    "from notebooks.utils import display_images\n",
    "from langdetect import detect\n",
    "import json\n",
    "import time"
   ]
  },
  {
   "cell_type": "code",
   "execution_count": null,
   "metadata": {},
   "outputs": [],
   "source": [
    "embedding_based_search = EmbeddingBasedSearch(\n",
    "    use_clip_h14=False,\n",
    "    use_clip_l14=False,\n",
    "    use_blip=False,\n",
    "    use_beit=True\n",
    ")"
   ]
  },
  {
   "cell_type": "code",
   "execution_count": null,
   "metadata": {},
   "outputs": [],
   "source": [
    "top_k = 40\n",
    "query_text = 'Lũ lụt cùng tiêu đề bản tin màu đỏ ở phía dưới là phòng chóng lũ lụt'\n",
    "if detect(query_text) == 'vi':\n",
    "    translator = Translator()\n",
    "    query_text = translator(query_text)\n",
    "\n",
    "# Này là khi tích ô nào thì sẽ hiện True ô đó\n",
    "embedding_based_search.update_searching_mode(\n",
    "    clip_h14_engine=False,\n",
    "    clip_l14_engine=False,\n",
    "    blip_engine=False,\n",
    "    beit_engine=True\n",
    ")\n",
    "\n",
    "start_time = time.time()\n",
    "# Vì search trên global nên image_path_subset = None\n",
    "result = embedding_based_search.text_search(query_text, image_path_subset=None, top_k=top_k)\n",
    "'''\n",
    "result sẽ có định dạng là  {image_path: score}\n",
    "'''\n",
    "end_time = time.time()\n",
    "\n",
    "print('Thời gian truy vấn:', end_time - start_time)\n",
    "display_images(result)"
   ]
  },
  {
   "cell_type": "code",
   "execution_count": null,
   "metadata": {},
   "outputs": [],
   "source": [
    "user_feedback = UserFeedback()"
   ]
  },
  {
   "cell_type": "code",
   "execution_count": null,
   "metadata": {},
   "outputs": [],
   "source": [
    "query_text = 'Lũ lụt cùng tiêu đề bản tin màu đỏ ở phía dưới là phòng chóng lũ lụt'\n",
    "if detect(query_text) == 'vi':\n",
    "    translator = Translator()\n",
    "    query_text = translator(query_text)\n",
    "\n",
    "neg_keyframe_subset = ['./distilled_keyframe/L06/V026/6865.jpg']\n",
    "pos_keyframe_subset = ['./distilled_keyframe/L08/V019/12685.jpg']\n",
    "reranked_result = user_feedback(\n",
    "    query_text=query_text,\n",
    "    eval_keyframe_subset=list(result.keys()),\n",
    "    neg_keyframe_subset=neg_keyframe_subset,\n",
    "    pos_keyframe_subset=pos_keyframe_subset\n",
    ")\n",
    "display_images(reranked_result)"
   ]
  }
 ],
 "metadata": {
  "kernelspec": {
   "display_name": "aic2024-env",
   "language": "python",
   "name": "python3"
  },
  "language_info": {
   "codemirror_mode": {
    "name": "ipython",
    "version": 3
   },
   "file_extension": ".py",
   "mimetype": "text/x-python",
   "name": "python",
   "nbconvert_exporter": "python",
   "pygments_lexer": "ipython3",
   "version": "3.8.19"
  }
 },
 "nbformat": 4,
 "nbformat_minor": 2
}
