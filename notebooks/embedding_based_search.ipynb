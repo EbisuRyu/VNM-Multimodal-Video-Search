{
 "cells": [
  {
   "cell_type": "markdown",
   "metadata": {},
   "source": [
    "#### **0. Embedding Based Search**"
   ]
  },
  {
   "cell_type": "code",
   "execution_count": null,
   "metadata": {},
   "outputs": [],
   "source": [
    "%cd D:/AIC2024"
   ]
  },
  {
   "cell_type": "code",
   "execution_count": null,
   "metadata": {},
   "outputs": [],
   "source": [
    "from utils.embedding_based_search.embedding_based_search import EmbeddingBasedSearch\n",
    "from utils.query_processing.translator import Translator\n",
    "from notebooks.utils import display_images\n",
    "from langdetect import detect\n",
    "import json\n",
    "import time"
   ]
  },
  {
   "cell_type": "code",
   "execution_count": 3,
   "metadata": {},
   "outputs": [],
   "source": [
    "embedding_based_search = EmbeddingBasedSearch(\n",
    "    use_clip_h14=False,\n",
    "    use_clip_l14=True,\n",
    "    use_blip=False,\n",
    "    use_beit=False\n",
    ")"
   ]
  },
  {
   "cell_type": "markdown",
   "metadata": {},
   "source": [
    "#### **1. Global Search**"
   ]
  },
  {
   "cell_type": "code",
   "execution_count": null,
   "metadata": {},
   "outputs": [],
   "source": [
    "top_k = 20\n",
    "query_text = 'Lũ lụt cùng tiêu đề bản tin màu đỏ ở phía dưới là phòng chóng lũ lụt'\n",
    "if detect(query_text) == 'vi':\n",
    "    translator = Translator()\n",
    "    query_text = translator(query_text)\n",
    "\n",
    "# Này là khi tích ô nào thì sẽ hiện True ô đó\n",
    "embedding_based_search.update_searching_mode(\n",
    "    clip_h14_engine=False,\n",
    "    clip_l14_engine=True,\n",
    "    blip_engine=False,\n",
    "    beit_engine=False\n",
    ")\n",
    "\n",
    "start_time = time.time()\n",
    "# Vì search trên global nên image_path_subset = None\n",
    "result = embedding_based_search.text_search(query_text, image_path_subset=None, top_k=top_k)\n",
    "'''\n",
    "result sẽ có định dạng là  {image_path: score}\n",
    "'''\n",
    "end_time = time.time()\n",
    "\n",
    "print('Thời gian truy vấn:', end_time - start_time)\n",
    "display_images(result)"
   ]
  },
  {
   "cell_type": "markdown",
   "metadata": {},
   "source": [
    "#### **2. Local Seach on video**"
   ]
  },
  {
   "cell_type": "code",
   "execution_count": null,
   "metadata": {},
   "outputs": [],
   "source": [
    "def reading_json_file(json_path):\n",
    "    with open(json_path, 'r') as file:\n",
    "        data = json.load(file)\n",
    "    return data"
   ]
  },
  {
   "cell_type": "code",
   "execution_count": null,
   "metadata": {},
   "outputs": [],
   "source": [
    "# Giả sử ta lựa chọn L và V như sau:\n",
    "L, V = 'L01', 'V001'\n",
    "local_dict = reading_json_file('../dict/local/local_dict.json')\n",
    "# Trích xuất đường dẫn của tập hình ảnh video thông qua local dict\n",
    "image_path_subset = local_dict[L][V]\n",
    "# Search trên tập ảnh vừa rút trích\n",
    "top_k = 30 # Top k nên lấy số lượng ít hơn số lượng metadata_result, nếu bằng hoặc lớn hơn sẽ diễn ra lỗi\n",
    "query_text = 'xe ô tô vượt lũ'\n",
    "if detect(query_text) == 'vi':\n",
    "    translator = Translator()\n",
    "    query_text = translator(query_text)\n",
    "# Có thể dùng 1 trong 2 clip hoặc cả hai nhưng không nên sử dụng blip\n",
    "embedding_based_search.update_searching_mode(\n",
    "    clip_h14_engine=False,\n",
    "    clip_l14_engine=True,\n",
    "    blip_engine=False,\n",
    "    beit_engine=False\n",
    ")\n",
    "start_time = time.time()\n",
    "result = embedding_based_search.text_search(query_text, image_path_subset=image_path_subset, top_k=top_k)\n",
    "end_time = time.time()\n",
    "\n",
    "print('Thời gian truy vấn:', end_time - start_time)\n",
    "display_images(result)"
   ]
  },
  {
   "cell_type": "markdown",
   "metadata": {},
   "source": [
    "#### **3. Fusion Search**"
   ]
  },
  {
   "cell_type": "code",
   "execution_count": null,
   "metadata": {},
   "outputs": [],
   "source": [
    "# Giả sử khung hình trái có kết quả như sau:\n",
    "metadata_result = {\n",
    "    \"./distilled_keyframe/L01/V001/498.jpg\": 10, \n",
    "    \"./distilled_keyframe/L01/V001/596.jpg\": 8, \n",
    "    \"./distilled_keyframe/L01/V001/597.jpg\": 3, \n",
    "    \"./distilled_keyframe/L01/V001/621.jpg\": 2, \n",
    "    \"./distilled_keyframe/L01/V001/646.jpg\": 1,\n",
    "    \"./distilled_keyframe/L01/V001/5118.jpg\": 0\n",
    "}\n",
    "# Trích xuất đường dẫn của tập hình ảnh kết quả của metadata_result\n",
    "image_path_subset = list(metadata_result.keys())\n",
    "# Search trên tập ảnh vừa rút trích\n",
    "top_k = 10 # Top k nên lấy số lượng ít hơn số lượng metadata_result, nếu bằng hoặc lớn hơn sẽ diễn ra lỗi\n",
    "query_text = 'xe ô tô vượt lũ'\n",
    "if detect(query_text) == 'vi':\n",
    "    translator = Translator()\n",
    "    query_text = translator(query_text)\n",
    "\n",
    "embedding_based_search.update_searching_mode(\n",
    "    clip_h14_engine=False,\n",
    "    clip_l14_engine=True,\n",
    "    blip_engine=False,\n",
    "    beit_engine=False\n",
    ")\n",
    "start_time = time.time()\n",
    "result = embedding_based_search.text_search(query_text, image_path_subset=image_path_subset, top_k=top_k)\n",
    "end_time = time.time()\n",
    "\n",
    "print('Thời gian truy vấn:', end_time - start_time)\n",
    "display_images(result)"
   ]
  },
  {
   "cell_type": "markdown",
   "metadata": {},
   "source": [
    "#### **4. Multistage Search**"
   ]
  },
  {
   "cell_type": "code",
   "execution_count": null,
   "metadata": {},
   "outputs": [],
   "source": [
    "# Giả sử khung hình phải có kết quả như sau:\n",
    "metadata_result = {\n",
    "    \"./distilled_keyframe/L01/V001/498.jpg\": 10, \n",
    "    \"./distilled_keyframe/L01/V001/596.jpg\": 8, \n",
    "    \"./distilled_keyframe/L01/V001/597.jpg\": 3, \n",
    "    \"./distilled_keyframe/L01/V001/621.jpg\": 2, \n",
    "    \"./distilled_keyframe/L01/V001/646.jpg\": 1,\n",
    "    \"./distilled_keyframe/L01/V001/5118.jpg\": 0\n",
    "}\n",
    "# Trích xuất đường dẫn của tập hình ảnh kết quả của metadata_result\n",
    "image_path_subset = list(metadata_result.keys())\n",
    "# Search trên tập ảnh vừa rút trích\n",
    "top_k = 5 # Top k nên lấy số lượng ít hơn số lượng metadata_result, nếu bằng hoặc lớn hơn sẽ diễn ra lỗi\n",
    "query_text = 'xe ô tô vượt lũ'\n",
    "if detect(query_text) == 'vi':\n",
    "    translator = Translator()\n",
    "    query_text = translator(query_text)\n",
    "\n",
    "embedding_based_search.update_searching_mode(\n",
    "    clip_h14_engine=False,\n",
    "    clip_l14_engine=True,\n",
    "    blip_engine=False,\n",
    "    beit_engine=False\n",
    ")\n",
    "start_time = time.time()\n",
    "result = embedding_based_search.text_search(query_text, image_path_subset=image_path_subset, top_k=top_k)\n",
    "end_time = time.time()\n",
    "\n",
    "print('Thời gian truy vấn:', end_time - start_time)\n",
    "display_images(result)"
   ]
  },
  {
   "cell_type": "markdown",
   "metadata": {},
   "source": [
    "#### **5. Video Searching**"
   ]
  },
  {
   "cell_type": "code",
   "execution_count": null,
   "metadata": {},
   "outputs": [],
   "source": [
    "query_image_path = './distilled_keyframe/L01/V001/498.jpg'\n",
    "embedding_based_search.update_searching_mode(\n",
    "    clip_h14_engine=False,\n",
    "    clip_l14_engine=True,\n",
    "    blip_engine=False,\n",
    "    beit_engine=False\n",
    ")\n",
    "image_path_subset = None\n",
    "start_time = time.time()\n",
    "result = embedding_based_search.image_search(query_image_path, image_path_subset, top_k=100)\n",
    "end_time = time.time()\n",
    "\n",
    "print('Thời gian truy vấn:', end_time - start_time)\n",
    "display_images(result)"
   ]
  }
 ],
 "metadata": {
  "kernelspec": {
   "display_name": "aic2024-env-new",
   "language": "python",
   "name": "python3"
  },
  "language_info": {
   "codemirror_mode": {
    "name": "ipython",
    "version": 3
   },
   "file_extension": ".py",
   "mimetype": "text/x-python",
   "name": "python",
   "nbconvert_exporter": "python",
   "pygments_lexer": "ipython3",
   "version": "3.8.19"
  }
 },
 "nbformat": 4,
 "nbformat_minor": 2
}
