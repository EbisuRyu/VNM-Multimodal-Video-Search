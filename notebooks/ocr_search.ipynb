{
 "cells": [
  {
   "cell_type": "markdown",
   "metadata": {},
   "source": [
    "#### **0. OCR Text Search**"
   ]
  },
  {
   "cell_type": "code",
   "execution_count": null,
   "metadata": {},
   "outputs": [],
   "source": [
    "%cd D:/AIC2024"
   ]
  },
  {
   "cell_type": "code",
   "execution_count": 2,
   "metadata": {},
   "outputs": [],
   "source": [
    "from utils.filter.ocr_elastic_search import ElasticSearch\n",
    "from notebooks.utils import display_images"
   ]
  },
  {
   "cell_type": "code",
   "execution_count": 3,
   "metadata": {},
   "outputs": [],
   "source": [
    "elastic_search = ElasticSearch(\n",
    "    index_name=\"ocr_engine\",\n",
    "    user_name=\"elastic\",\n",
    "    password=\"123456\"\n",
    ")"
   ]
  },
  {
   "cell_type": "markdown",
   "metadata": {},
   "source": [
    "#### **1. OCR Global Text Search**"
   ]
  },
  {
   "cell_type": "code",
   "execution_count": null,
   "metadata": {},
   "outputs": [],
   "source": [
    "top_k = 20\n",
    "text_query = \"nga và ucraina\"\n",
    "results = elastic_search.search(text_query, image_path_subset=None, top_k=top_k)\n",
    "display_images(results)"
   ]
  },
  {
   "cell_type": "markdown",
   "metadata": {},
   "source": [
    "#### **1. OCR Fusion Text Search**"
   ]
  },
  {
   "cell_type": "code",
   "execution_count": null,
   "metadata": {},
   "outputs": [],
   "source": [
    "# Sử dụng kết quả của khung hình \n",
    "image_path_subset = [\n",
    "    \"./distilled_keyframe/L01/V001/0.jpg\", \n",
    "    \"./distilled_keyframe/L01/V001/6.jpg\",\n",
    "    \"./distilled_keyframe/L01/V022/31971.jpg\",\n",
    "    \"./distilled_keyframe/L10/V006/26139.jpg\",\n",
    "    \"./distilled_keyframe/L02/V001/435.jpg\"\n",
    "]\n",
    "\n",
    "top_k = 2\n",
    "text_query = \"nga và ucraina\"\n",
    "results = elastic_search.search(text_query, image_path_subset=image_path_subset, top_k=top_k)\n",
    "display_images(results)"
   ]
  }
 ],
 "metadata": {
  "kernelspec": {
   "display_name": "aic2024-env",
   "language": "python",
   "name": "python3"
  },
  "language_info": {
   "codemirror_mode": {
    "name": "ipython",
    "version": 3
   },
   "file_extension": ".py",
   "mimetype": "text/x-python",
   "name": "python",
   "nbconvert_exporter": "python",
   "pygments_lexer": "ipython3",
   "version": "3.8.19"
  }
 },
 "nbformat": 4,
 "nbformat_minor": 2
}
