{
 "cells": [
  {
   "cell_type": "code",
   "execution_count": null,
   "metadata": {},
   "outputs": [],
   "source": [
    "%cd D:/AIC2024"
   ]
  },
  {
   "cell_type": "code",
   "execution_count": null,
   "metadata": {},
   "outputs": [],
   "source": [
    "from utils.filter.tag_recommend import TagRecommender"
   ]
  },
  {
   "cell_type": "code",
   "execution_count": null,
   "metadata": {},
   "outputs": [],
   "source": [
    "tag_recommender = TagRecommender()\n",
    "query = \"Một bác sĩ/y tá đang soi kiểm tra mắt cho bệnh nhân bằng máy có tên là CLARUS. Bệnh nhân mặc áo màu xanh. Kết thúc bằng cảnh tay người bác sĩ/y tá đang điều chỉnh cần điều khiển có vòng tròn màu xanh dương phát sáng. Số được ghi trên máy CLARUS là số mấy?\"\n",
    "recommended_tags = tag_recommender(query)\n",
    "print(f\"Recommended tags: {recommended_tags}\")"
   ]
  }
 ],
 "metadata": {
  "kernelspec": {
   "display_name": "aic-env",
   "language": "python",
   "name": "python3"
  },
  "language_info": {
   "codemirror_mode": {
    "name": "ipython",
    "version": 3
   },
   "file_extension": ".py",
   "mimetype": "text/x-python",
   "name": "python",
   "nbconvert_exporter": "python",
   "pygments_lexer": "ipython3",
   "version": "3.8.19"
  }
 },
 "nbformat": 4,
 "nbformat_minor": 2
}
