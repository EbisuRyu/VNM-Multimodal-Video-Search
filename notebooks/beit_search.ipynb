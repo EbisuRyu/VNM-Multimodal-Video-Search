{
 "cells": [
  {
   "cell_type": "code",
   "execution_count": null,
   "metadata": {},
   "outputs": [],
   "source": [
    "%cd D:/AIC2024"
   ]
  },
  {
   "cell_type": "code",
   "execution_count": null,
   "metadata": {},
   "outputs": [],
   "source": [
    "from utils.embedding_based_search.beit_engine import BEIT\n",
    "from utils.query_processing.translator import Translator\n",
    "from notebooks.utils import display_images\n",
    "from langdetect import detect\n",
    "import time"
   ]
  },
  {
   "cell_type": "code",
   "execution_count": null,
   "metadata": {},
   "outputs": [],
   "source": [
    "beit_engine = BEIT(\n",
    "    beit_bin_file='./dict/beit/beit.bin',\n",
    "    beit_id2image_path='./dict/beit/beit.json'\n",
    ")"
   ]
  },
  {
   "cell_type": "code",
   "execution_count": null,
   "metadata": {},
   "outputs": [],
   "source": [
    "top_k = 20\n",
    "query_text = 'Một con thuyền chạy được trên băng, màu đen. Con thuyền này chạy bằng động cơ cánh quạt ở bên trên thổi hướng ra phía sau. Con thuyền là phương tiện hỗ trợ cứu hộ một nạn nhân bị rơi xuống hồ băng.'\n",
    "if detect(query_text) == 'vi':\n",
    "    translator = Translator()\n",
    "    query_text = translator(query_text)\n",
    "\n",
    "start_time = time.time()\n",
    "# Vì search trên global nên image_path_subset = None\n",
    "result = beit_engine.text_search(query_text, image_path_subset=None, top_k=top_k)\n",
    "'''\n",
    "result sẽ có định dạng là  {image_path: score}\n",
    "'''\n",
    "end_time = time.time()\n",
    "\n",
    "print('Thời gian truy vấn:', end_time - start_time)\n",
    "display_images(result)"
   ]
  }
 ],
 "metadata": {
  "kernelspec": {
   "display_name": "aic2024-env",
   "language": "python",
   "name": "python3"
  },
  "language_info": {
   "codemirror_mode": {
    "name": "ipython",
    "version": 3
   },
   "file_extension": ".py",
   "mimetype": "text/x-python",
   "name": "python",
   "nbconvert_exporter": "python",
   "pygments_lexer": "ipython3",
   "version": "3.8.19"
  }
 },
 "nbformat": 4,
 "nbformat_minor": 2
}
