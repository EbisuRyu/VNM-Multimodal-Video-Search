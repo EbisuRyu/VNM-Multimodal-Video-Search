{
 "cells": [
  {
   "cell_type": "markdown",
   "metadata": {},
   "source": [
    "#### **Import Libraries**"
   ]
  },
  {
   "cell_type": "code",
   "execution_count": 2,
   "metadata": {},
   "outputs": [],
   "source": [
    "import os\n",
    "import cv2\n",
    "import json\n",
    "import numpy as np\n",
    "from tqdm import tqdm\n",
    "import matplotlib.pyplot as plt\n",
    "from skimage.color import rgb2lab, deltaE_cie76"
   ]
  },
  {
   "cell_type": "code",
   "execution_count": 3,
   "metadata": {},
   "outputs": [
    {
     "name": "stdout",
     "output_type": "stream",
     "text": [
      "D:\\AIC2024\\dataset\n"
     ]
    }
   ],
   "source": [
    "%cd D:/AIC2024/dataset"
   ]
  },
  {
   "cell_type": "markdown",
   "metadata": {},
   "source": [
    "#### **Parsing Data Path**"
   ]
  },
  {
   "cell_type": "code",
   "execution_count": 4,
   "metadata": {},
   "outputs": [],
   "source": [
    "def parse_data_path(feature_dir='./distilled_keyframe'):\n",
    "    all_feature_paths = dict()\n",
    "    for feature_part in sorted(os.listdir(feature_dir)):\n",
    "        all_feature_paths[feature_part] = dict()\n",
    "    for feature_part in sorted(all_feature_paths.keys()):\n",
    "        feature_part_path = f'{feature_dir}/{feature_part}'\n",
    "        feature_paths = sorted(os.listdir(feature_part_path))\n",
    "        feature_ids = [feature_path.split('.')[0] for feature_path in feature_paths]\n",
    "        for feature_id, feature_path in zip(feature_ids, feature_paths):\n",
    "            feature_path_full = f'{feature_part_path}/{feature_path}'\n",
    "            all_feature_paths[feature_part][feature_id] = feature_path_full\n",
    "    return all_feature_paths\n",
    "\n",
    "def calculate_centroid(points):\n",
    "    if points.size == 0:\n",
    "        raise ValueError(\"Tập dữ liệu không được để trống.\")\n",
    "    # Tính toán trung bình theo từng chiều\n",
    "    centroid = np.mean(points, axis=0)\n",
    "    return centroid"
   ]
  },
  {
   "cell_type": "code",
   "execution_count": null,
   "metadata": {},
   "outputs": [],
   "source": [
    "all_keyframe_paths = parse_data_path(feature_dir='./distilled_keyframe')"
   ]
  },
  {
   "cell_type": "markdown",
   "metadata": {},
   "source": [
    "#### **Creating Color Palette**"
   ]
  },
  {
   "cell_type": "code",
   "execution_count": 5,
   "metadata": {},
   "outputs": [
    {
     "name": "stdout",
     "output_type": "stream",
     "text": [
      "Color Palette: [[  3.19739074   0.894756    -0.63929314]\n",
      " [ 45.20923058  10.17622654 -54.15436811]\n",
      " [ 40.0129862   19.37278276  28.11057534]\n",
      " [ 56.15203379 -50.01876545  46.1682887 ]\n",
      " [ 52.63406311  -0.74927434  -0.25947839]\n",
      " [ 62.18897587  53.96934336  68.49116015]\n",
      " [ 42.33080498  66.11269551  48.86185425]\n",
      " [ 40.23054752  64.68849953 -57.6744468 ]\n",
      " [ 86.7712191    0.33727719   0.12389392]\n",
      " [ 91.59772204 -13.33452778  77.03914845]]\n",
      "Id2Color: ['black' 'blue' 'brown' 'green' 'grey' 'orange' 'red' 'violet' 'white'\n",
      " 'yellow']\n"
     ]
    }
   ],
   "source": [
    "color_palette = []\n",
    "id2color = []\n",
    "\n",
    "color_palette_dir = './color_palette'\n",
    "for label in os.listdir(color_palette_dir):\n",
    "    label_dir = f'{color_palette_dir}/{label}'\n",
    "    color_dataset = []\n",
    "    for color_path in os.listdir(label_dir):\n",
    "        color_path = f'{label_dir}/{color_path}'\n",
    "        color_img = cv2.imread(color_path)\n",
    "        color_img = cv2.cvtColor(color_img, cv2.COLOR_BGR2RGB)\n",
    "        color_dataset.append(color_img[0, 0, :].reshape(-1, 3))\n",
    "    centroid = calculate_centroid(np.array(color_dataset))\n",
    "    color_palette.append(centroid)\n",
    "    id2color.append(label)\n",
    "\n",
    "color_palette = rgb2lab(np.uint8(np.asarray(color_palette))).reshape(-1, 3)\n",
    "id2color = np.asarray(id2color)\n",
    "\n",
    "print('Color Palette:', color_palette)\n",
    "print('Id2Color:', id2color)"
   ]
  },
  {
   "cell_type": "markdown",
   "metadata": {},
   "source": [
    "#### **Color Textual Encoder**"
   ]
  },
  {
   "cell_type": "code",
   "execution_count": 11,
   "metadata": {},
   "outputs": [],
   "source": [
    "class ColorTextualEncoder:\n",
    "\n",
    "    def __init__(self, color_palette, id2color, row_str=None, col_str=None):\n",
    "        self.color_palette = color_palette\n",
    "        self.id2color = id2color\n",
    "        self.row_str = row_str or ['0', '1', '2', '3', '4', '5', '6']\n",
    "        self.col_str = col_str or ['a', 'b', 'c', 'd', 'e', 'f', 'g']\n",
    "        self.x_pts = np.linspace(0, 1, len(self.row_str) + 1)\n",
    "        self.y_pts = np.linspace(0, 1, len(self.col_str) + 1)\n",
    "        self.grid_bboxes, self.grid_labels = self.initialize_grid_bboxes()\n",
    "\n",
    "    def initialize_grid_bboxes(self):\n",
    "        grid_bboxes, grid_labels = [], []\n",
    "        for row, row_label in enumerate(self.row_str):\n",
    "            for col, col_label in enumerate(self.col_str):\n",
    "                bbox = [self.x_pts[col], self.y_pts[row], self.x_pts[col + 1], self.y_pts[row + 1]]\n",
    "                grid_bboxes.append(bbox)\n",
    "                grid_labels.append(f\"{col_label}{row_label}\")\n",
    "        return np.array(grid_bboxes), grid_labels\n",
    "    \n",
    "    def visual_grid_bboxes(self, image):\n",
    "        if image is None:\n",
    "            image = np.zeros((210, 210, 3), dtype=np.uint8)\n",
    "        grid_image = image.copy()\n",
    "        h, w, _ = grid_image.shape\n",
    "\n",
    "        for bbox, label in zip(self.grid_bboxes, self.grid_labels):\n",
    "            x_start, y_start, x_end, y_end = (np.array(bbox) * [w, h, w, h]).astype(int)\n",
    "            grid_image = cv2.putText(\n",
    "                grid_image, label, (x_start + (x_end - x_start) // 2 - 10, y_start + (y_end - y_start) // 2),\n",
    "                cv2.FONT_HERSHEY_SIMPLEX, 0.5, (0, 0, 255), 1, cv2.LINE_AA\n",
    "            )\n",
    "            grid_image = cv2.rectangle(grid_image, (x_start, y_start), (x_end - 1, y_end - 1), (255, 255, 0), 1)\n",
    "        plt.imshow(cv2.cvtColor(grid_image, cv2.COLOR_RGB2BGR))\n",
    "\n",
    "    def distances_to_probabilities_inverse(self, distances):\n",
    "        inverse_distances = 1 / (distances + 1e-5)\n",
    "        return inverse_distances / np.sum(inverse_distances, axis=1, keepdims=True)\n",
    "\n",
    "\n",
    "    def predict_pixels_color(self, deltaE_cie76_diff):\n",
    "        two_most_color_indices = np.argsort(deltaE_cie76_diff, axis=1)[:, :2]\n",
    "        two_most_color_distances = np.take_along_axis(deltaE_cie76_diff, two_most_color_indices, axis=1)\n",
    "        probabilities = self.distances_to_probabilities_inverse(two_most_color_distances)\n",
    "        filtered_mask = np.ones(probabilities.shape, dtype=bool)\n",
    "        filtered_mask[:, 1] = (probabilities[:, 1] / probabilities[:, 0]) > 0.5\n",
    "        return self.id2color[two_most_color_indices[filtered_mask]]\n",
    "\n",
    "    def match_image_to_pallete(self, RGB_image, threshold = 0.07):\n",
    "        # Converts RGB to CIE 1976 L*a*b values. The CIELAB color space\n",
    "        # (also known as CIE L*a*b*) is a color space defined by the\n",
    "        n_pixels = RGB_image.shape[0] * RGB_image.shape[1]\n",
    "        lab_image = rgb2lab(np.uint8(np.asarray(RGB_image))).reshape(-1, 1, 3)\n",
    "        # Euclidean distance between two points in Lab color space.\n",
    "        deltaE_cie76_diff = deltaE_cie76(lab_image, self.color_palette)\n",
    "        color_prediction = np.array(self.predict_pixels_color(deltaE_cie76_diff))\n",
    "        color_labels, color_frequencies = np.unique(color_prediction, return_counts=True)\n",
    "        selected_colors = color_labels[color_frequencies > n_pixels*threshold]\n",
    "        return selected_colors\n",
    "\n",
    "    def textual_encoding_color_bboxes(self, image):\n",
    "        h, w, _ = image.shape\n",
    "        encoding_color = []\n",
    "        \n",
    "        for bbox, label in zip(self.grid_bboxes, self.grid_labels):\n",
    "            x0, y0, x1, y1 = (np.array(bbox) * [w, h, w, h]).astype(int)\n",
    "            matched_colors = self.match_image_to_pallete(image[y0:y1, x0:x1, :])\n",
    "            for color in matched_colors:\n",
    "                encoding_color.append(label + color)\n",
    "        return ' '.join(sorted(encoding_color))\n",
    "\n",
    "    def textual_encoding_color_classes(self, image):\n",
    "        h, w, _ = image.shape\n",
    "        encoding_color = []\n",
    "        \n",
    "        for bbox in self.grid_bboxes:\n",
    "            x0, y0, x1, y1 = (np.array(bbox) * [w, h, w, h]).astype(int)\n",
    "            crop_image = image[y0:y1, x0:x1, :]\n",
    "            matched_colors = self.match_image_to_pallete(crop_image)\n",
    "            encoding_color.extend(matched_colors)\n",
    "        return ' '.join(sorted(encoding_color))"
   ]
  },
  {
   "cell_type": "code",
   "execution_count": null,
   "metadata": {},
   "outputs": [],
   "source": [
    "color_encoder = ColorTextualEncoder(color_palette, id2color)\n",
    "color_encoder.visual_grid_bboxes(image=None)"
   ]
  },
  {
   "cell_type": "markdown",
   "metadata": {},
   "source": [
    "#### **Color Bounding Box and Color Class**"
   ]
  },
  {
   "cell_type": "code",
   "execution_count": null,
   "metadata": {},
   "outputs": [],
   "source": [
    "def write_text_file(text, file_path):\n",
    "    with open(file_path, 'w') as f:\n",
    "        f.write(text)\n",
    "\n",
    "def write_json_file(json_data, file_path):\n",
    "    with open(file_path, 'w') as f:\n",
    "        json.dump(json_data, f, ensure_ascii=False, indent=4)\n",
    "\n",
    "def sorted_by_id(keyframe_paths):\n",
    "    id_path_keyframes = []\n",
    "    for keyframe_path in keyframe_paths:\n",
    "        keyframe_filename = keyframe_path.split('/')[-1]\n",
    "        keyframe_id = int(keyframe_filename.split('.')[0])\n",
    "        id_path_keyframes.append((keyframe_id, keyframe_path))\n",
    "    sorted_id_path_keyframes = sorted(id_path_keyframes, key=lambda id_path: id_path[0])\n",
    "    return [id_path[1] for id_path in sorted_id_path_keyframes]"
   ]
  },
  {
   "cell_type": "code",
   "execution_count": null,
   "metadata": {},
   "outputs": [],
   "source": [
    "def encode_metadata(image_path):\n",
    "    image = cv2.imread(image_path)\n",
    "    RGB_image = cv2.cvtColor(image, cv2.COLOR_BGR2RGB)\n",
    "    encoded_bbox = color_encoder.textual_encoding_color_bboxes(RGB_image)\n",
    "    encoded_class = color_encoder.textual_encoding_color_classes(RGB_image)\n",
    "    return {\n",
    "        'color_bbox': encoded_bbox,\n",
    "        'color_class': encoded_class\n",
    "    }"
   ]
  },
  {
   "cell_type": "code",
   "execution_count": null,
   "metadata": {},
   "outputs": [],
   "source": [
    "save_dir = './metadata/color/features'\n",
    "if not os.path.exists(save_dir):\n",
    "    os.makedirs(save_dir)\n",
    "\n",
    "for video_part, video_path_dict in all_keyframe_paths.items():\n",
    "    full_save_dir = save_dir + '/' + video_part\n",
    "    os.makedirs(full_save_dir, exist_ok=True)\n",
    "    video_ids = video_path_dict.keys()\n",
    "    for video_id in tqdm(video_ids, desc=f'Encoding Part {video_part}'):\n",
    "\n",
    "        video_id_metadata_records = {}\n",
    "        video_id_path = video_path_dict[video_id]\n",
    "        keyframe_image_paths = [video_id_path + '/' + keyframe_image_path for keyframe_image_path in os.listdir(video_id_path)]\n",
    "        for keyframe_image_path in sorted_by_id(keyframe_image_paths):\n",
    "            video_id_metadata_records[keyframe_image_path] = encode_metadata(keyframe_image_path)\n",
    "        write_json_file(video_id_metadata_records, os.path.join(full_save_dir, f'{video_id}.json'))"
   ]
  }
 ],
 "metadata": {
  "kernelspec": {
   "display_name": "aic2024-env-new",
   "language": "python",
   "name": "python3"
  },
  "language_info": {
   "codemirror_mode": {
    "name": "ipython",
    "version": 3
   },
   "file_extension": ".py",
   "mimetype": "text/x-python",
   "name": "python",
   "nbconvert_exporter": "python",
   "pygments_lexer": "ipython3",
   "version": "3.8.19"
  }
 },
 "nbformat": 4,
 "nbformat_minor": 2
}
