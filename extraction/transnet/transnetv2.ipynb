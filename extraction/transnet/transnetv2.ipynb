{
  "cells": [
    {
      "cell_type": "markdown",
      "metadata": {},
      "source": [
        "#### **Import Libraries**"
      ]
    },
    {
      "cell_type": "code",
      "execution_count": null,
      "metadata": {},
      "outputs": [],
      "source": [
        "# Change directory to your root path of your project\n",
        "%cd D:/AIC2024"
      ]
    },
    {
      "cell_type": "code",
      "execution_count": null,
      "metadata": {
        "id": "sBwTNJufQWtg"
      },
      "outputs": [],
      "source": [
        "import os\n",
        "import json\n",
        "from tqdm.auto import tqdm\n",
        "from extra.TransNetV2.inference.transnetv2 import TransNetV2"
      ]
    },
    {
      "cell_type": "markdown",
      "metadata": {
        "id": "tuxSdNlDQtSD"
      },
      "source": [
        "#### **Shot Extraction Model**"
      ]
    },
    {
      "cell_type": "code",
      "execution_count": null,
      "metadata": {
        "id": "DJ4qN88eQWth"
      },
      "outputs": [],
      "source": [
        "class ShotExtractor():\n",
        "    def __init__(self, model, video_dir='./AIC_video'):\n",
        "        self.model = model\n",
        "        self.video_dir = video_dir\n",
        "        self.parse_video_path()\n",
        "\n",
        "    def parse_video_path(self):\n",
        "        self.all_video_paths = dict()\n",
        "        for part in sorted(os.listdir(self.video_dir)):\n",
        "            data_part = part.split('_')[-1]\n",
        "            self.all_video_paths[data_part] = dict()\n",
        "        for data_part in sorted(self.all_video_paths.keys()):\n",
        "            data_part_path = f'{self.video_dir}/Videos_{data_part}/video'\n",
        "            video_paths = sorted(os.listdir(data_part_path))\n",
        "            video_ids = [video_path.replace('.mp4', '').split('_')[-1] for video_path in video_paths]\n",
        "            for video_id, video_path in zip(video_ids, video_paths):\n",
        "                video_path_full = f'{data_part_path}/{video_path}'\n",
        "                self.all_video_paths[data_part][video_id] = video_path_full\n",
        "\n",
        "    def __call__(self, save_dir='SceneJSON'):\n",
        "        if not os.path.exists(save_dir):\n",
        "            os.makedirs(save_dir)\n",
        "        for data_part, video_path_dict in self.all_video_paths.items():\n",
        "            video_ids = video_path_dict.keys()\n",
        "            for video_id in tqdm(video_ids, desc=f'Shot Extracting {data_part}'):\n",
        "                video_path = video_path_dict[video_id]\n",
        "                _, single_frame_predictions, _ = self.model.predict_video(video_path)\n",
        "                scenes = self.model.predictions_to_scenes(single_frame_predictions)\n",
        "                os.makedirs(f\"{save_dir}/{data_part}\", exist_ok=True)\n",
        "                with open(f\"{save_dir}/{data_part}/{video_id}.json\", 'w') as f:\n",
        "                    json.dump(scenes.tolist(), f)"
      ]
    },
    {
      "cell_type": "markdown",
      "metadata": {
        "id": "RlvLHqKUQyn5"
      },
      "source": [
        "#### **Inference**"
      ]
    },
    {
      "cell_type": "code",
      "execution_count": null,
      "metadata": {
        "colab": {
          "base_uri": "https://localhost:8080/"
        },
        "id": "Hqkk-4s1UNLA",
        "outputId": "79fd8221-f327-426f-c49d-60f9eb10e46a"
      },
      "outputs": [],
      "source": [
        "# Change directory to your root path of dataset directory in your project\n",
        "%cd D:/AIC2024/dataset"
      ]
    },
    {
      "cell_type": "code",
      "execution_count": null,
      "metadata": {
        "colab": {
          "base_uri": "https://localhost:8080/"
        },
        "id": "PhrVAU-tQWti",
        "outputId": "78634dda-dea7-4105-dd28-2bad814b7ab6"
      },
      "outputs": [],
      "source": [
        "model = TransNetV2()\n",
        "shot_extractor = ShotExtractor(model, video_dir='./AIC_video')"
      ]
    },
    {
      "cell_type": "code",
      "execution_count": null,
      "metadata": {},
      "outputs": [],
      "source": [
        "save_dir = \"./SceneJSON\"\n",
        "shot_extractor(save_dir=save_dir)"
      ]
    }
  ],
  "metadata": {
    "accelerator": "GPU",
    "colab": {
      "gpuType": "T4",
      "provenance": []
    },
    "kernelspec": {
      "display_name": "Python 3",
      "name": "python3"
    },
    "language_info": {
      "codemirror_mode": {
        "name": "ipython",
        "version": 3
      },
      "file_extension": ".py",
      "mimetype": "text/x-python",
      "name": "python",
      "nbconvert_exporter": "python",
      "pygments_lexer": "ipython3",
      "version": "3.8.19"
    }
  },
  "nbformat": 4,
  "nbformat_minor": 0
}
