{
  "cells": [
    {
      "cell_type": "markdown",
      "metadata": {
        "id": "76fQ0rszokDr"
      },
      "source": [
        "#### **Import Libraries**"
      ]
    },
    {
      "cell_type": "code",
      "execution_count": null,
      "metadata": {
        "id": "f8Vr_OD1nLWQ"
      },
      "outputs": [],
      "source": [
        "import os\n",
        "import cv2\n",
        "import json\n",
        "import numpy as np\n",
        "from tqdm import tqdm"
      ]
    },
    {
      "cell_type": "markdown",
      "metadata": {
        "id": "Q5geMMaaomf_"
      },
      "source": [
        "#### **Keyframe Extractor**"
      ]
    },
    {
      "cell_type": "code",
      "execution_count": null,
      "metadata": {
        "id": "U3uDvO-GnHVE"
      },
      "outputs": [],
      "source": [
        "class KeyFrameExtractor():\n",
        "\n",
        "    def __init__(self, video_dir='./AIC_video', scene_dir='./SceneJSON'):\n",
        "        self.video_dir = video_dir\n",
        "        self.scene_dir = scene_dir\n",
        "        self.parse_json_path()\n",
        "\n",
        "    def parse_json_path(self):\n",
        "        self.all_scene_paths = dict()\n",
        "        for scene_part in sorted(os.listdir(self.scene_dir)):\n",
        "            self.all_scene_paths[scene_part] = dict()\n",
        "        for scene_part in sorted(self.all_scene_paths.keys()):\n",
        "            scene_part_path = f'{self.scene_dir}/{scene_part}'\n",
        "            scene_json_paths = sorted(os.listdir(scene_part_path))\n",
        "            scene_json_ids = [scene_json_path.split('.')[0] for scene_json_path in scene_json_paths]\n",
        "            for scene_json_id, scene_json_path in zip(scene_json_ids, scene_json_paths):\n",
        "                scene_json_path_full = f'{scene_part_path}/{scene_json_path}'\n",
        "                self.all_scene_paths[scene_part][scene_json_id] = scene_json_path_full\n",
        "\n",
        "    def read_scene_json(self, scene_json_path):\n",
        "        with open(scene_json_path, 'r') as f:\n",
        "            video_scenes = json.load(f)\n",
        "        return video_scenes\n",
        "\n",
        "    def save_keyframes(self, keyframes, keyframe_dir):\n",
        "        if not os.path.exists(keyframe_dir):\n",
        "            os.makedirs(keyframe_dir)\n",
        "        for (frame_id, frame) in keyframes:\n",
        "            output_path = os.path.join(keyframe_dir, f'{frame_id}.jpg')\n",
        "            cv2.imwrite(output_path, frame)\n",
        "\n",
        "    def extract_keyframes(self, video_path, video_scenes, number_keyframe):\n",
        "        keyframes = []\n",
        "        cap = cv2.VideoCapture(video_path)\n",
        "        for scene in video_scenes:\n",
        "            begin_frame, end_frame = scene\n",
        "            selected_frame_ids = np.linspace(begin_frame, end_frame, number_keyframe).astype(np.uint16)\n",
        "            for frame_id in selected_frame_ids:\n",
        "                cap.set(cv2.CAP_PROP_POS_FRAMES, frame_id)\n",
        "                ret, frame = cap.read()\n",
        "                if ret:\n",
        "                    meta_keyframe = (frame_id, frame)\n",
        "                    keyframes.append(meta_keyframe)\n",
        "                else:\n",
        "                    print('Error Reading Image!')\n",
        "        cap.release()\n",
        "        return keyframes\n",
        "\n",
        "    def __call__(self, number_keyframe, save_dir=\"./Keyframe\"):\n",
        "        if not os.path.exists(save_dir):\n",
        "            os.makedirs(save_dir)\n",
        "        for scene_part, scene_path_dict in self.all_scene_paths.items():\n",
        "            scene_json_ids = scene_path_dict.keys()\n",
        "            for scene_json_id in tqdm(scene_json_ids, desc=f'Cutting {scene_part}'):\n",
        "                scene_json_full_path = scene_path_dict[scene_json_id]\n",
        "                video_scenes = self.read_scene_json(scene_json_full_path)\n",
        "                video_path = f\"{self.video_dir}/Videos_{scene_part}/video/{scene_part}_{scene_json_id}.mp4\"\n",
        "                keyframes = self.extract_keyframes(video_path, video_scenes, number_keyframe)\n",
        "                keyframe_save_dir = f\"{save_dir}/{scene_part}/{scene_json_id}\"\n",
        "                self.save_keyframes(keyframes, keyframe_save_dir)"
      ]
    },
    {
      "cell_type": "markdown",
      "metadata": {
        "id": "0hppB964oq6c"
      },
      "source": [
        "#### **Inference**"
      ]
    },
    {
      "cell_type": "code",
      "execution_count": null,
      "metadata": {
        "colab": {
          "base_uri": "https://localhost:8080/"
        },
        "id": "rm5gkWwpot64",
        "outputId": "f5aa93ca-1cd6-4272-c753-03208183ac85"
      },
      "outputs": [],
      "source": [
        "# Change directory to your root path of dataset directory in your project\n",
        "%cd D:/AIC2024/dataset"
      ]
    },
    {
      "cell_type": "code",
      "execution_count": null,
      "metadata": {
        "colab": {
          "base_uri": "https://localhost:8080/"
        },
        "id": "8hKSp4YypFL-",
        "outputId": "374504aa-d583-48e0-b5b9-270052a41c98"
      },
      "outputs": [],
      "source": [
        "save_dir = \"./keyframe\"\n",
        "number_keyframe = 5\n",
        "keyframe_extractor = KeyFrameExtractor()\n",
        "keyframe_extractor(number_keyframe, save_dir)"
      ]
    }
  ],
  "metadata": {
    "colab": {
      "provenance": []
    },
    "kernelspec": {
      "display_name": "Python 3",
      "name": "python3"
    },
    "language_info": {
      "codemirror_mode": {
        "name": "ipython",
        "version": 3
      },
      "file_extension": ".py",
      "mimetype": "text/x-python",
      "name": "python",
      "nbconvert_exporter": "python",
      "pygments_lexer": "ipython3",
      "version": "3.8.19"
    }
  },
  "nbformat": 4,
  "nbformat_minor": 0
}
