{
 "cells": [
  {
   "cell_type": "markdown",
   "metadata": {},
   "source": [
    "#### **Import Libraries**"
   ]
  },
  {
   "cell_type": "code",
   "execution_count": 1,
   "metadata": {},
   "outputs": [
    {
     "name": "stderr",
     "output_type": "stream",
     "text": [
      "c:\\Users\\LONG\\anaconda3\\envs\\aic2024-env-new\\lib\\site-packages\\tqdm\\auto.py:21: TqdmWarning: IProgress not found. Please update jupyter and ipywidgets. See https://ipywidgets.readthedocs.io/en/stable/user_install.html\n",
      "  from .autonotebook import tqdm as notebook_tqdm\n"
     ]
    }
   ],
   "source": [
    "import os\n",
    "import shutil\n",
    "import json\n",
    "from tqdm.auto import tqdm"
   ]
  },
  {
   "cell_type": "code",
   "execution_count": 2,
   "metadata": {},
   "outputs": [
    {
     "name": "stdout",
     "output_type": "stream",
     "text": [
      "D:\\AIC2024\\dataset\n"
     ]
    }
   ],
   "source": [
    "%cd D:/AIC2024/dataset"
   ]
  },
  {
   "cell_type": "markdown",
   "metadata": {},
   "source": [
    "#### **Parsing Data Path**"
   ]
  },
  {
   "cell_type": "code",
   "execution_count": 3,
   "metadata": {},
   "outputs": [],
   "source": [
    "def parse_data_path(feature_dir='./keyframe'):\n",
    "    all_feature_paths = dict()\n",
    "    for feature_part in sorted(os.listdir(feature_dir)):\n",
    "        all_feature_paths[feature_part] = dict()\n",
    "    for feature_part in sorted(all_feature_paths.keys()):\n",
    "        feature_part_path = f'{feature_dir}/{feature_part}'\n",
    "        feature_paths = sorted(os.listdir(feature_part_path))\n",
    "        feature_ids = [feature_path.split('.')[0] for feature_path in feature_paths]\n",
    "        for feature_id, feature_path in zip(feature_ids, feature_paths):\n",
    "            feature_path_full = f'{feature_part_path}/{feature_path}'\n",
    "            all_feature_paths[feature_part][feature_id] = feature_path_full\n",
    "    return all_feature_paths"
   ]
  },
  {
   "cell_type": "code",
   "execution_count": 4,
   "metadata": {},
   "outputs": [],
   "source": [
    "all_video_paths = parse_data_path(feature_dir='./distillation')"
   ]
  },
  {
   "cell_type": "markdown",
   "metadata": {},
   "source": [
    "#### **Function Definition**"
   ]
  },
  {
   "cell_type": "code",
   "execution_count": 5,
   "metadata": {},
   "outputs": [],
   "source": [
    "def copy_images(image_paths, destination_dir):\n",
    "    if not os.path.exists(destination_dir):\n",
    "        os.makedirs(destination_dir)\n",
    "    for image_path in image_paths:\n",
    "        image_name = os.path.basename(image_path)\n",
    "        destination_path = os.path.join(destination_dir, image_name)\n",
    "        shutil.copy(image_path, destination_path)\n",
    "\n",
    "def read_json_file(json_file_path):\n",
    "    with open(json_file_path, 'r') as f:\n",
    "        image_paths = json.load(f)\n",
    "    return image_paths\n",
    "\n",
    "def sorted_by_id(keyframe_paths):\n",
    "    id_path_keyframes = []\n",
    "    for keyframe_path in keyframe_paths:\n",
    "        keyframe_filename = keyframe_path.split('/')[-1]\n",
    "        keyframe_id = int(keyframe_filename.split('.')[0])\n",
    "        id_path_keyframes.append((keyframe_id, keyframe_path))\n",
    "    sorted_id_path_keyframes = sorted(id_path_keyframes, key=lambda id_path: id_path[0])\n",
    "    return [id_path[1] for id_path in sorted_id_path_keyframes]"
   ]
  },
  {
   "cell_type": "markdown",
   "metadata": {},
   "source": [
    "#### **Inference**"
   ]
  },
  {
   "cell_type": "code",
   "execution_count": 8,
   "metadata": {},
   "outputs": [],
   "source": [
    "distilled_save_dir='./distilled_keyframe'\n",
    "if not os.path.exists(distilled_save_dir):\n",
    "    os.makedirs(distilled_save_dir)"
   ]
  },
  {
   "cell_type": "code",
   "execution_count": 6,
   "metadata": {},
   "outputs": [],
   "source": [
    "execute = ['L02', 'L09']"
   ]
  },
  {
   "cell_type": "code",
   "execution_count": 9,
   "metadata": {},
   "outputs": [
    {
     "name": "stderr",
     "output_type": "stream",
     "text": [
      "Distilling Part L02: 100%|██████████| 31/31 [04:36<00:00,  8.91s/it]\n",
      "Distilling Part L09: 100%|██████████| 29/29 [05:54<00:00, 12.24s/it]\n"
     ]
    }
   ],
   "source": [
    "for video_part, video_path_dict in all_video_paths.items():\n",
    "    video_ids = video_path_dict.keys()\n",
    "    if video_part not in execute:\n",
    "        continue\n",
    "    for video_id in tqdm(video_ids, desc=f'Distilling Part {video_part}'):\n",
    "        video_id_path = video_path_dict[video_id]\n",
    "        keyframe_image_paths = read_json_file(video_id_path)\n",
    "        sorted_keyframe_image_paths = sorted_by_id(keyframe_image_paths)\n",
    "        destination_dir = f'{distilled_save_dir}/{video_part}/{video_id}'\n",
    "        os.makedirs(destination_dir, exist_ok=True)\n",
    "        copy_images(sorted_keyframe_image_paths, destination_dir)"
   ]
  }
 ],
 "metadata": {
  "kernelspec": {
   "display_name": "aic2024-env-new",
   "language": "python",
   "name": "python3"
  },
  "language_info": {
   "codemirror_mode": {
    "name": "ipython",
    "version": 3
   },
   "file_extension": ".py",
   "mimetype": "text/x-python",
   "name": "python",
   "nbconvert_exporter": "python",
   "pygments_lexer": "ipython3",
   "version": "3.8.19"
  }
 },
 "nbformat": 4,
 "nbformat_minor": 2
}
