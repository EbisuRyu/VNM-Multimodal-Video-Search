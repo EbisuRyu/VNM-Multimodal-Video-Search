{
 "cells": [
  {
   "cell_type": "markdown",
   "metadata": {},
   "source": [
    "#### **Import Libraries**"
   ]
  },
  {
   "cell_type": "code",
   "execution_count": null,
   "metadata": {},
   "outputs": [],
   "source": [
    "%cd D:/VNM-Multimodal-Video-Search/dataset"
   ]
  },
  {
   "cell_type": "code",
   "execution_count": 2,
   "metadata": {},
   "outputs": [],
   "source": [
    "import os\n",
    "import json\n",
    "from elasticsearch import Elasticsearch, helpers, NotFoundError, RequestError"
   ]
  },
  {
   "cell_type": "markdown",
   "metadata": {},
   "source": [
    "#### **Elastic Database**"
   ]
  },
  {
   "cell_type": "code",
   "execution_count": 3,
   "metadata": {},
   "outputs": [],
   "source": [
    "class ElasticDB:\n",
    "    def __init__(self, index_name, user_name, password, es_host=\"http://localhost:9200\",  request_timeout=60):\n",
    "        self.index_name = index_name\n",
    "        self.es = Elasticsearch(es_host, basic_auth=(user_name, password), request_timeout=request_timeout)\n",
    "\n",
    "    def create_index(self, settings=None, mappings=None):\n",
    "        \"\"\"Tạo index mới nếu chưa tồn tại, nếu tồn tại thì xóa và tạo index mới.\"\"\"\n",
    "        try:\n",
    "            if not self.es.indices.exists(index=self.index_name):\n",
    "                body = {}\n",
    "                if settings:\n",
    "                    body[\"settings\"] = settings\n",
    "                if mappings:\n",
    "                    body[\"mappings\"] = mappings\n",
    "                self.es.indices.create(index=self.index_name, body=body)\n",
    "                print(f\"Index '{self.index_name}' created successfully.\")\n",
    "            else:\n",
    "                print(f\"Index '{self.index_name}' already exists. So, we'll delete and create new index.\")\n",
    "                self.delete_index(self.index_name)\n",
    "                self.create_index(settings, mappings)\n",
    "        except RequestError as e:\n",
    "            print(f\"Error creating index: {e.info}\")\n",
    "\n",
    "\n",
    "    def generate_id(self, L, V, ID_FRAME):\n",
    "        \"\"\"Tạo ID từ các trường L, V, ID_FRAME.\"\"\"\n",
    "        return f\"./distilled_keyframe/{L}/{V}/{ID_FRAME}.jpg\"\n",
    "\n",
    "\n",
    "    def index_document(self, document):\n",
    "        \"\"\"Index một document vào Elasticsearch.\"\"\"\n",
    "        try:\n",
    "            doc_id = self.generate_id(document['L'], document['V'], document['ID_FRAME'])\n",
    "\n",
    "            # Kiểm tra xem document với ID này đã tồn tại hay chưa\n",
    "            if self.es.exists(index=self.index_name, id=doc_id):\n",
    "                print(f\"Document with ID: {doc_id} already exists. Skipping indexing.\")\n",
    "                return None\n",
    "\n",
    "            response = self.es.index(index=self.index_name, id=doc_id, body=document)\n",
    "            print(f\"Document indexed with ID: {doc_id}\")\n",
    "            return response\n",
    "        except RequestError as e:\n",
    "            print(f\"Error indexing document: {e.info}\")\n",
    "\n",
    "\n",
    "    def bulk_index_documents(self, documents):\n",
    "        \"\"\"Index nhiều document vào Elasticsearch nếu ID không tồn tại.\"\"\"\n",
    "        try:\n",
    "            actions = []\n",
    "            for doc in documents:\n",
    "                doc_id = self.generate_id(doc['L'], doc['V'], doc['ID_FRAME'])\n",
    "                actions.append({\n",
    "                    \"_index\": self.index_name,\n",
    "                    \"_id\": doc_id,\n",
    "                    \"_source\": doc\n",
    "                })\n",
    "\n",
    "            if actions:\n",
    "                helpers.bulk(self.es, actions)\n",
    "                print(f\"Bulk indexed {len(actions)} documents successfully.\")\n",
    "            else:\n",
    "                print(\"No new documents to index.\")\n",
    "        except RequestError as e:\n",
    "            print(f\"Error bulk indexing documents: {e.info}\")\n",
    "\n",
    "    def load_data_from_directory(self, directory_path):\n",
    "        \"\"\"Load data từ thư mục và trả về danh sách các documents.\"\"\"\n",
    "        documents = []\n",
    "        for root, dirs, files in os.walk(directory_path):\n",
    "            for file in files:\n",
    "                if file.endswith('.json'):\n",
    "                    file_path = os.path.join(root, file)\n",
    "                    with open(file_path, 'r', encoding='utf-8') as f:\n",
    "                        data = json.load(f)\n",
    "                        for item in data:\n",
    "                            documents.append(item)\n",
    "        return documents\n",
    "\n",
    "\n",
    "    def delete_index(self, index_name):\n",
    "        if self.es.indices.exists(index=index_name):\n",
    "            try:\n",
    "                response = self.es.indices.delete(index=index_name)\n",
    "                print(f\"Index '{index_name}' deleted successfully.\")\n",
    "                return response\n",
    "            except Exception as e:\n",
    "                print(f\"Delete '{index_name}' Fail. Error: {e}\")\n",
    "                return None\n",
    "        else:\n",
    "            print(f\"Index '{index_name}' not exist.\")\n",
    "            return None\n",
    "\n",
    "\n",
    "    def delete_document(self, index_name, id):\n",
    "        try:\n",
    "            response = self.es.delete(index=index_name, id=id)\n",
    "            print(f\"Document with id '{id}' deleted successfully from index '{index_name}'.\")\n",
    "            return response\n",
    "        except Exception as e:\n",
    "            print(f\"Delete document with id '{id}' Fail. Error: {e}\")\n",
    "            return None\n",
    "\n",
    "    def list_all_indices(self):\n",
    "        return self.es.indices.get_alias(\"*\")"
   ]
  },
  {
   "cell_type": "markdown",
   "metadata": {},
   "source": [
    "#### **Create Elastic Database**"
   ]
  },
  {
   "cell_type": "code",
   "execution_count": null,
   "metadata": {},
   "outputs": [],
   "source": [
    "es = ElasticDB(index_name=\"ocr_engine\", user_name=\"elastic\", password=\"123456\")\n",
    "es.delete_index('ocr_engine')"
   ]
  },
  {
   "cell_type": "code",
   "execution_count": null,
   "metadata": {},
   "outputs": [],
   "source": [
    "es = ElasticDB(index_name=\"ocr_engine\", user_name=\"elastic\", password=\"123456\")\n",
    "\n",
    "settings = {\n",
    "        \"number_of_shards\": 1,\n",
    "        \"number_of_replicas\": 0\n",
    "}\n",
    "\n",
    "mappings = {\n",
    "    \"properties\": {\n",
    "        \"L\": {\"type\": \"keyword\"},\n",
    "        \"V\": {\"type\": \"keyword\"},\n",
    "        \"ID_FRAME\": {\"type\": \"keyword\"},\n",
    "        \"TEXT\": {\"type\": \"text\"}\n",
    "    }\n",
    "}\n",
    "\n",
    "es.create_index(settings=settings, mappings=mappings)\n",
    "\n",
    "directory_path = r\"./filter/ocr_features\"\n",
    "documents = es.load_data_from_directory(directory_path)\n",
    "es.bulk_index_documents(documents)"
   ]
  }
 ],
 "metadata": {
  "kernelspec": {
   "display_name": "aic2024-env",
   "language": "python",
   "name": "python3"
  },
  "language_info": {
   "codemirror_mode": {
    "name": "ipython",
    "version": 3
   },
   "file_extension": ".py",
   "mimetype": "text/x-python",
   "name": "python",
   "nbconvert_exporter": "python",
   "pygments_lexer": "ipython3",
   "version": "3.8.19"
  }
 },
 "nbformat": 4,
 "nbformat_minor": 2
}
